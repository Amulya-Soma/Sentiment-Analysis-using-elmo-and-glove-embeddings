{
  "cells": [
    {
      "cell_type": "code",
      "execution_count": 1,
      "metadata": {
        "colab": {
          "base_uri": "https://localhost:8080/"
        },
        "id": "wV6GJlLDnnG0",
        "outputId": "46d572f6-a5fd-40e3-85e3-275fca1f60ee"
      },
      "outputs": [
        {
          "name": "stdout",
          "output_type": "stream",
          "text": [
            "--2025-03-09 02:26:44--  http://nlp.stanford.edu/data/glove.6B.zip\n",
            "Resolving nlp.stanford.edu (nlp.stanford.edu)... 171.64.67.140\n",
            "Connecting to nlp.stanford.edu (nlp.stanford.edu)|171.64.67.140|:80... connected.\n",
            "HTTP request sent, awaiting response... 302 Found\n",
            "Location: https://nlp.stanford.edu/data/glove.6B.zip [following]\n",
            "--2025-03-09 02:26:44--  https://nlp.stanford.edu/data/glove.6B.zip\n",
            "Connecting to nlp.stanford.edu (nlp.stanford.edu)|171.64.67.140|:443... connected.\n",
            "HTTP request sent, awaiting response... 301 Moved Permanently\n",
            "Location: https://downloads.cs.stanford.edu/nlp/data/glove.6B.zip [following]\n",
            "--2025-03-09 02:26:44--  https://downloads.cs.stanford.edu/nlp/data/glove.6B.zip\n",
            "Resolving downloads.cs.stanford.edu (downloads.cs.stanford.edu)... 171.64.64.22\n",
            "Connecting to downloads.cs.stanford.edu (downloads.cs.stanford.edu)|171.64.64.22|:443... connected.\n",
            "HTTP request sent, awaiting response... 200 OK\n",
            "Length: 862182613 (822M) [application/zip]\n",
            "Saving to: ‘glove.6B.zip’\n",
            "\n",
            "glove.6B.zip        100%[===================>] 822.24M  5.05MB/s    in 2m 39s  \n",
            "\n",
            "2025-03-09 02:29:23 (5.18 MB/s) - ‘glove.6B.zip’ saved [862182613/862182613]\n",
            "\n",
            "Archive:  glove.6B.zip\n",
            "  inflating: glove.6B.50d.txt        \n",
            "  inflating: glove.6B.100d.txt       \n",
            "  inflating: glove.6B.200d.txt       \n",
            "  inflating: glove.6B.300d.txt       \n"
          ]
        }
      ],
      "source": [
        "!wget http://nlp.stanford.edu/data/glove.6B.zip\n",
        "!unzip glove.6B.zip\n"
      ]
    },
    {
      "cell_type": "code",
      "execution_count": null,
      "metadata": {
        "id": "0D9K7POnnnA4"
      },
      "outputs": [],
      "source": []
    },
    {
      "cell_type": "code",
      "execution_count": null,
      "metadata": {
        "id": "T-Ikb3JWnm_7"
      },
      "outputs": [],
      "source": []
    },
    {
      "cell_type": "code",
      "execution_count": null,
      "metadata": {
        "id": "mE4OdT63nm7B"
      },
      "outputs": [],
      "source": []
    },
    {
      "cell_type": "code",
      "execution_count": 2,
      "metadata": {
        "colab": {
          "base_uri": "https://localhost:8080/"
        },
        "id": "ZX79V8tqgEyt",
        "outputId": "1ea6daa4-b8c4-46e8-ce5a-bf75aba65f52"
      },
      "outputs": [
        {
          "name": "stdout",
          "output_type": "stream",
          "text": [
            "Requirement already satisfied: tensorflow in /usr/local/lib/python3.11/dist-packages (2.18.0)\n",
            "Requirement already satisfied: absl-py>=1.0.0 in /usr/local/lib/python3.11/dist-packages (from tensorflow) (1.4.0)\n",
            "Requirement already satisfied: astunparse>=1.6.0 in /usr/local/lib/python3.11/dist-packages (from tensorflow) (1.6.3)\n",
            "Requirement already satisfied: flatbuffers>=24.3.25 in /usr/local/lib/python3.11/dist-packages (from tensorflow) (25.2.10)\n",
            "Requirement already satisfied: gast!=0.5.0,!=0.5.1,!=0.5.2,>=0.2.1 in /usr/local/lib/python3.11/dist-packages (from tensorflow) (0.6.0)\n",
            "Requirement already satisfied: google-pasta>=0.1.1 in /usr/local/lib/python3.11/dist-packages (from tensorflow) (0.2.0)\n",
            "Requirement already satisfied: libclang>=13.0.0 in /usr/local/lib/python3.11/dist-packages (from tensorflow) (18.1.1)\n",
            "Requirement already satisfied: opt-einsum>=2.3.2 in /usr/local/lib/python3.11/dist-packages (from tensorflow) (3.4.0)\n",
            "Requirement already satisfied: packaging in /usr/local/lib/python3.11/dist-packages (from tensorflow) (24.2)\n",
            "Requirement already satisfied: protobuf!=4.21.0,!=4.21.1,!=4.21.2,!=4.21.3,!=4.21.4,!=4.21.5,<6.0.0dev,>=3.20.3 in /usr/local/lib/python3.11/dist-packages (from tensorflow) (4.25.6)\n",
            "Requirement already satisfied: requests<3,>=2.21.0 in /usr/local/lib/python3.11/dist-packages (from tensorflow) (2.32.3)\n",
            "Requirement already satisfied: setuptools in /usr/local/lib/python3.11/dist-packages (from tensorflow) (75.1.0)\n",
            "Requirement already satisfied: six>=1.12.0 in /usr/local/lib/python3.11/dist-packages (from tensorflow) (1.17.0)\n",
            "Requirement already satisfied: termcolor>=1.1.0 in /usr/local/lib/python3.11/dist-packages (from tensorflow) (2.5.0)\n",
            "Requirement already satisfied: typing-extensions>=3.6.6 in /usr/local/lib/python3.11/dist-packages (from tensorflow) (4.12.2)\n",
            "Requirement already satisfied: wrapt>=1.11.0 in /usr/local/lib/python3.11/dist-packages (from tensorflow) (1.17.2)\n",
            "Requirement already satisfied: grpcio<2.0,>=1.24.3 in /usr/local/lib/python3.11/dist-packages (from tensorflow) (1.70.0)\n",
            "Requirement already satisfied: tensorboard<2.19,>=2.18 in /usr/local/lib/python3.11/dist-packages (from tensorflow) (2.18.0)\n",
            "Requirement already satisfied: keras>=3.5.0 in /usr/local/lib/python3.11/dist-packages (from tensorflow) (3.8.0)\n",
            "Requirement already satisfied: numpy<2.1.0,>=1.26.0 in /usr/local/lib/python3.11/dist-packages (from tensorflow) (1.26.4)\n",
            "Requirement already satisfied: h5py>=3.11.0 in /usr/local/lib/python3.11/dist-packages (from tensorflow) (3.12.1)\n",
            "Requirement already satisfied: ml-dtypes<0.5.0,>=0.4.0 in /usr/local/lib/python3.11/dist-packages (from tensorflow) (0.4.1)\n",
            "Requirement already satisfied: tensorflow-io-gcs-filesystem>=0.23.1 in /usr/local/lib/python3.11/dist-packages (from tensorflow) (0.37.1)\n",
            "Requirement already satisfied: wheel<1.0,>=0.23.0 in /usr/local/lib/python3.11/dist-packages (from astunparse>=1.6.0->tensorflow) (0.45.1)\n",
            "Requirement already satisfied: rich in /usr/local/lib/python3.11/dist-packages (from keras>=3.5.0->tensorflow) (13.9.4)\n",
            "Requirement already satisfied: namex in /usr/local/lib/python3.11/dist-packages (from keras>=3.5.0->tensorflow) (0.0.8)\n",
            "Requirement already satisfied: optree in /usr/local/lib/python3.11/dist-packages (from keras>=3.5.0->tensorflow) (0.14.1)\n",
            "Requirement already satisfied: charset-normalizer<4,>=2 in /usr/local/lib/python3.11/dist-packages (from requests<3,>=2.21.0->tensorflow) (3.4.1)\n",
            "Requirement already satisfied: idna<4,>=2.5 in /usr/local/lib/python3.11/dist-packages (from requests<3,>=2.21.0->tensorflow) (3.10)\n",
            "Requirement already satisfied: urllib3<3,>=1.21.1 in /usr/local/lib/python3.11/dist-packages (from requests<3,>=2.21.0->tensorflow) (2.3.0)\n",
            "Requirement already satisfied: certifi>=2017.4.17 in /usr/local/lib/python3.11/dist-packages (from requests<3,>=2.21.0->tensorflow) (2025.1.31)\n",
            "Requirement already satisfied: markdown>=2.6.8 in /usr/local/lib/python3.11/dist-packages (from tensorboard<2.19,>=2.18->tensorflow) (3.7)\n",
            "Requirement already satisfied: tensorboard-data-server<0.8.0,>=0.7.0 in /usr/local/lib/python3.11/dist-packages (from tensorboard<2.19,>=2.18->tensorflow) (0.7.2)\n",
            "Requirement already satisfied: werkzeug>=1.0.1 in /usr/local/lib/python3.11/dist-packages (from tensorboard<2.19,>=2.18->tensorflow) (3.1.3)\n",
            "Requirement already satisfied: MarkupSafe>=2.1.1 in /usr/local/lib/python3.11/dist-packages (from werkzeug>=1.0.1->tensorboard<2.19,>=2.18->tensorflow) (3.0.2)\n",
            "Requirement already satisfied: markdown-it-py>=2.2.0 in /usr/local/lib/python3.11/dist-packages (from rich->keras>=3.5.0->tensorflow) (3.0.0)\n",
            "Requirement already satisfied: pygments<3.0.0,>=2.13.0 in /usr/local/lib/python3.11/dist-packages (from rich->keras>=3.5.0->tensorflow) (2.18.0)\n",
            "Requirement already satisfied: mdurl~=0.1 in /usr/local/lib/python3.11/dist-packages (from markdown-it-py>=2.2.0->rich->keras>=3.5.0->tensorflow) (0.1.2)\n"
          ]
        }
      ],
      "source": [
        "!pip install tensorflow"
      ]
    },
    {
      "cell_type": "code",
      "execution_count": 12,
      "metadata": {
        "id": "P3FavMi7ej-X"
      },
      "outputs": [],
      "source": [
        "import pandas as pd\n",
        "import tensorflow as tf\n",
        "import tensorflow_hub as hub\n",
        "import matplotlib.pyplot as plt\n",
        "import seaborn as sns\n",
        "import numpy as np\n",
        "from tensorflow.keras.preprocessing.text import Tokenizer\n",
        "from tensorflow.keras.preprocessing.sequence import pad_sequences\n",
        "from tensorflow.keras.models import Sequential\n",
        "from tensorflow.keras.layers import Embedding, LSTM, Dense, Dropout, Input, Lambda, Bidirectional, Reshape\n",
        "from tensorflow.keras.preprocessing.text import Tokenizer\n",
        "from tensorflow.keras.preprocessing.sequence import pad_sequences"
      ]
    },
    {
      "cell_type": "code",
      "execution_count": 13,
      "metadata": {
        "colab": {
          "base_uri": "https://localhost:8080/"
        },
        "id": "1jx7d4sMgCu5",
        "outputId": "69d18c9d-b6bb-4683-e333-85ef36c62e94"
      },
      "outputs": [
        {
          "name": "stderr",
          "output_type": "stream",
          "text": [
            "[nltk_data] Downloading package punkt_tab to /root/nltk_data...\n",
            "[nltk_data]   Package punkt_tab is already up-to-date!\n"
          ]
        },
        {
          "data": {
            "text/plain": [
              "True"
            ]
          },
          "execution_count": 13,
          "metadata": {},
          "output_type": "execute_result"
        }
      ],
      "source": [
        "import nltk\n",
        "from nltk.tokenize import word_tokenize\n",
        "nltk.download('punkt_tab')"
      ]
    },
    {
      "cell_type": "code",
      "execution_count": 14,
      "metadata": {
        "colab": {
          "base_uri": "https://localhost:8080/"
        },
        "id": "BxW6NvqvfC68",
        "outputId": "d9aaa8e5-5972-4480-fb66-d31b7a74cde0"
      },
      "outputs": [
        {
          "name": "stdout",
          "output_type": "stream",
          "text": [
            "50000\n"
          ]
        }
      ],
      "source": [
        "## Step 1: Load Datasets\n",
        "\n",
        "def load_dataset(path):\n",
        "    df = pd.read_csv(path)\n",
        "    sentences = df['text'].astype(str).tolist() # Explicitly cast to string\n",
        "    labels = df['label'].tolist()\n",
        "\n",
        "    return sentences, labels\n",
        "\n",
        "train_sentences, train_labels = load_dataset('Train.csv')\n",
        "test_sentences, test_labels = load_dataset('Test.csv')\n",
        "valid_sentences, valid_labels = load_dataset('Valid.csv')\n",
        "\n",
        "# Combine all sentences for tokenizer fitting\n",
        "all_sentences = train_sentences + test_sentences + valid_sentences\n",
        "\n",
        "print(len(all_sentences))\n",
        "\n",
        "\n",
        "def preprocess_text(text):\n",
        "    return word_tokenize(text.lower())\n",
        "\n",
        "\n"
      ]
    },
    {
      "cell_type": "code",
      "execution_count": 15,
      "metadata": {
        "id": "b_DjTMbJh8Vd"
      },
      "outputs": [],
      "source": [
        "## Step 2: Create Word-to-Index Mapping using Tokenizer\n",
        "tokenizer = Tokenizer(num_words=10000, oov_token=\"<UNK>\")  # Limit vocabulary size to top 10,000 words + OOV token\n",
        "tokenizer.fit_on_texts(all_sentences)\n",
        "\n",
        "word_to_index = tokenizer.word_index\n",
        "vocab_size = len(tokenizer.word_index) + 1\n",
        "index_to_word = {index: word for word, index in word_to_index.items()}\n",
        "\n",
        "# Add padding token (it might already be present, but let's ensure it)\n",
        "if \"<PAD>\" not in word_to_index:\n",
        "    word_to_index['<PAD>'] = 0\n",
        "    index_to_word[0] = '<PAD>'\n"
      ]
    },
    {
      "cell_type": "code",
      "execution_count": 16,
      "metadata": {
        "id": "VhUNof9NtNLq"
      },
      "outputs": [],
      "source": [
        "## Step 3: Convert Sentences to Sequences and Pad Them\n",
        "\n",
        "def convert_and_pad(sentences, tokenizer, max_length):\n",
        "    sequences = tokenizer.texts_to_sequences(sentences)  # Use tokenizer to convert to sequences\n",
        "    padded_sequences = pad_sequences(sequences, maxlen=max_length, padding='post', truncating='post', value=word_to_index['<PAD>']) # Pad sequences\n",
        "    return padded_sequences\n",
        "\n",
        "max_length = 200  # Set a maximum sequence length\n",
        "X_train = convert_and_pad(train_sentences, tokenizer, max_length)\n",
        "X_test = convert_and_pad(test_sentences, tokenizer, max_length)\n",
        "X_val = convert_and_pad(valid_sentences, tokenizer, max_length)\n",
        "\n",
        "y_train = np.array(train_labels)\n",
        "y_test = np.array(test_labels)\n",
        "y_val = np.array(valid_labels)"
      ]
    },
    {
      "cell_type": "code",
      "execution_count": 17,
      "metadata": {
        "colab": {
          "base_uri": "https://localhost:8080/",
          "height": 472
        },
        "id": "NOLEwCXPiKxj",
        "outputId": "710b6161-86e0-4157-f18c-93e175f45d88"
      },
      "outputs": [
        {
          "data": {
            "image/png": "[encoded data removed]",
            "text/plain": [
              "<Figure size 640x480 with 1 Axes>"
            ]
          },
          "metadata": {},
          "output_type": "display_data"
        }
      ],
      "source": [
        "# Plot sentence length distribution\n",
        "dataset_tuples = list(zip(train_sentences, train_labels)) + list(zip(test_sentences, test_labels)) + list(zip(valid_sentences, valid_labels))\n",
        "sentence_lengths = [len(text) for text, _ in dataset_tuples]\n",
        "sns.histplot(sentence_lengths, bins=30, kde=True)\n",
        "plt.xlabel('Sentence Length')\n",
        "plt.ylabel('Frequency')\n",
        "plt.title('Sentence Length Distribution')\n",
        "plt.show()"
      ]
    },
    {
      "cell_type": "code",
      "execution_count": 18,
      "metadata": {
        "id": "XyDeu1-cpMcO"
      },
      "outputs": [],
      "source": [
        "# Load pre-trained GloVe embeddings\n",
        "def load_glove_embeddings(file_path, embedding_dim):\n",
        "    \"\"\"Loads GloVe embeddings from file and creates embedding matrix.\"\"\"\n",
        "\n",
        "    embeddings_index = {}\n",
        "    with open(file_path, 'r', encoding='utf-8') as f:\n",
        "        for line in f:\n",
        "            values = line.split()\n",
        "            word = values[0]\n",
        "            vector = np.asarray(values[1:], dtype='float32')\n",
        "            embeddings_index[word] = vector\n",
        "\n",
        "    embedding_matrix = np.zeros((vocab_size, embedding_dim))\n",
        "    for word, i in word_to_index.items():\n",
        "        vector = embeddings_index.get(word)\n",
        "        if vector is not None:\n",
        "            embedding_matrix[i] = vector\n",
        "    return embedding_matrix"
      ]
    },
    {
      "cell_type": "code",
      "execution_count": null,
      "metadata": {
        "id": "jBaRN1MBsChc"
      },
      "outputs": [],
      "source": []
    },
    {
      "cell_type": "code",
      "execution_count": 19,
      "metadata": {
        "id": "HowB3Odapzsh"
      },
      "outputs": [],
      "source": [
        "glove_embedding_matrix = load_glove_embeddings(\"/content/glove.6B.100d.txt\", 100)"
      ]
    },
    {
      "cell_type": "code",
      "execution_count": 20,
      "metadata": {
        "colab": {
          "base_uri": "https://localhost:8080/"
        },
        "id": "x2S3FtqHqN9O",
        "outputId": "cf2bcd1d-322a-41b0-a100-a9d78d73ec50"
      },
      "outputs": [
        {
          "name": "stdout",
          "output_type": "stream",
          "text": [
            "Epoch 1/5\n",
            "\u001b[1m1250/1250\u001b[0m \u001b[32m━━━━━━━━━━━━━━━━━━━━\u001b[0m\u001b[37m\u001b[0m \u001b[1m355s\u001b[0m 280ms/step - accuracy: 0.5432 - loss: 0.6843 - val_accuracy: 0.6038 - val_loss: 0.6658\n",
            "Epoch 2/5\n",
            "\u001b[1m1250/1250\u001b[0m \u001b[32m━━━━━━━━━━━━━━━━━━━━\u001b[0m\u001b[37m\u001b[0m \u001b[1m381s\u001b[0m 279ms/step - accuracy: 0.6617 - loss: 0.6169 - val_accuracy: 0.8102 - val_loss: 0.4080\n",
            "Epoch 3/5\n",
            "\u001b[1m1250/1250\u001b[0m \u001b[32m━━━━━━━━━━━━━━━━━━━━\u001b[0m\u001b[37m\u001b[0m \u001b[1m379s\u001b[0m 277ms/step - accuracy: 0.8212 - loss: 0.3969 - val_accuracy: 0.8466 - val_loss: 0.3469\n",
            "Epoch 4/5\n",
            "\u001b[1m1250/1250\u001b[0m \u001b[32m━━━━━━━━━━━━━━━━━━━━\u001b[0m\u001b[37m\u001b[0m \u001b[1m385s\u001b[0m 279ms/step - accuracy: 0.8519 - loss: 0.3384 - val_accuracy: 0.8602 - val_loss: 0.3218\n",
            "Epoch 5/5\n",
            "\u001b[1m1250/1250\u001b[0m \u001b[32m━━━━━━━━━━━━━━━━━━━━\u001b[0m\u001b[37m\u001b[0m \u001b[1m381s\u001b[0m 278ms/step - accuracy: 0.8690 - loss: 0.3076 - val_accuracy: 0.8730 - val_loss: 0.2997\n"
          ]
        },
        {
          "data": {
            "text/plain": [
              "<keras.src.callbacks.history.History at 0x793993fb0290>"
            ]
          },
          "execution_count": 20,
          "metadata": {},
          "output_type": "execute_result"
        }
      ],
      "source": [
        "# Define LSTM model with GloVe\n",
        "def build_lstm_model(embedding_matrix):\n",
        "    \"\"\"Builds an LSTM model using pre-trained GloVe embeddings.\"\"\"\n",
        "    model = Sequential([\n",
        "        Embedding(vocab_size, 100, weights=[embedding_matrix], trainable=False),\n",
        "        Bidirectional(LSTM(64, return_sequences=True)),\n",
        "        LSTM(32),\n",
        "        Dense(1, activation='sigmoid')\n",
        "    ])\n",
        "    model.compile(loss='binary_crossentropy', optimizer='adam', metrics=['accuracy'])\n",
        "    return model\n",
        "\n",
        "glove_model = build_lstm_model(glove_embedding_matrix)\n",
        "glove_model.fit(X_train, y_train, validation_data=(X_val, y_val), epochs=5, batch_size=32)"
      ]
    },
    {
      "cell_type": "code",
      "execution_count": 21,
      "metadata": {
        "id": "2hzor5F3rrg0"
      },
      "outputs": [],
      "source": [
        "# Load ELMo model from TensorFlow Hub\n",
        "elmo = hub.load(\"https://tfhub.dev/google/elmo/3\")\n",
        "\n",
        "# Function to generate ELMo embeddings\n",
        "def elmo_vectors(text_list):\n",
        "    embeddings = elmo.signatures[\"default\"](tf.constant(text_list))[\"elmo\"]\n",
        "    return embeddings.numpy()"
      ]
    },
    {
      "cell_type": "code",
      "execution_count": 22,
      "metadata": {
        "id": "2q1F8q73skY5"
      },
      "outputs": [],
      "source": [
        "def generate_elmo_embeddings(vocab, tokenizer):\n",
        "    emb_matrix = np.zeros((vocab_size, 1024))  # ELMo embeddings are 1024-dim\n",
        "    batch_size = 1000\n",
        "\n",
        "    for i in range(0, len(vocab), batch_size):\n",
        "        batch_words = vocab[i : i + batch_size]\n",
        "        embeddings = elmo_vectors(batch_words)\n",
        "        for word, emb in zip(batch_words, embeddings):\n",
        "            index = tokenizer.word_index.get(word, 0)\n",
        "            if index < vocab_size:\n",
        "                emb_matrix[index] = emb\n",
        "\n",
        "    return emb_matrix"
      ]
    },
    {
      "cell_type": "code",
      "execution_count": 23,
      "metadata": {
        "id": "UzS3EH5luCgE"
      },
      "outputs": [],
      "source": [
        "vocab = list(tokenizer.word_index.keys())\n",
        "elmo_embedding_matrix = generate_elmo_embeddings(vocab, tokenizer)"
      ]
    },
    {
      "cell_type": "code",
      "execution_count": 24,
      "metadata": {
        "colab": {
          "base_uri": "https://localhost:8080/"
        },
        "id": "_pwdAeo9ylTP",
        "outputId": "bcc69755-7c10-498f-cdf8-5d8496996144"
      },
      "outputs": [
        {
          "name": "stdout",
          "output_type": "stream",
          "text": [
            "Epoch 1/5\n",
            "\u001b[1m1250/1250\u001b[0m \u001b[32m━━━━━━━━━━━━━━━━━━━━\u001b[0m\u001b[37m\u001b[0m \u001b[1m1005s\u001b[0m 799ms/step - accuracy: 0.5724 - loss: 0.6361 - val_accuracy: 0.8576 - val_loss: 0.3317\n",
            "Epoch 2/5\n",
            "\u001b[1m1250/1250\u001b[0m \u001b[32m━━━━━━━━━━━━━━━━━━━━\u001b[0m\u001b[37m\u001b[0m \u001b[1m1038s\u001b[0m 795ms/step - accuracy: 0.8575 - loss: 0.3312 - val_accuracy: 0.8660 - val_loss: 0.3097\n",
            "Epoch 3/5\n",
            "\u001b[1m1250/1250\u001b[0m \u001b[32m━━━━━━━━━━━━━━━━━━━━\u001b[0m\u001b[37m\u001b[0m \u001b[1m1010s\u001b[0m 770ms/step - accuracy: 0.8747 - loss: 0.2966 - val_accuracy: 0.8698 - val_loss: 0.3090\n",
            "Epoch 4/5\n",
            "\u001b[1m1250/1250\u001b[0m \u001b[32m━━━━━━━━━━━━━━━━━━━━\u001b[0m\u001b[37m\u001b[0m \u001b[1m1015s\u001b[0m 796ms/step - accuracy: 0.8892 - loss: 0.2683 - val_accuracy: 0.8632 - val_loss: 0.3196\n",
            "Epoch 5/5\n",
            "\u001b[1m1250/1250\u001b[0m \u001b[32m━━━━━━━━━━━━━━━━━━━━\u001b[0m\u001b[37m\u001b[0m \u001b[1m1035s\u001b[0m 791ms/step - accuracy: 0.9009 - loss: 0.2453 - val_accuracy: 0.8684 - val_loss: 0.3056\n"
          ]
        },
        {
          "data": {
            "text/plain": [
              "<keras.src.callbacks.history.History at 0x7939924f2b10>"
            ]
          },
          "execution_count": 24,
          "metadata": {},
          "output_type": "execute_result"
        }
      ],
      "source": [
        "def build_lstm_model(embedding_matrix):\n",
        "    \"\"\"Builds an LSTM model using pre-trained GloVe embeddings.\"\"\"\n",
        "\n",
        "    model = Sequential([\n",
        "        Embedding(vocab_size, 1024, weights=[embedding_matrix], trainable=False),\n",
        "        Bidirectional(LSTM(64, return_sequences=True)),\n",
        "        LSTM(32),\n",
        "        Dense(1, activation='sigmoid')\n",
        "    ])\n",
        "\n",
        "    model.compile(loss='binary_crossentropy', optimizer='adam', metrics=['accuracy'])\n",
        "    return model\n",
        "\n",
        "elmo_model = build_lstm_model(elmo_embedding_matrix)\n",
        "elmo_model.fit(X_train, y_train, validation_data=(X_val, y_val), epochs=5, batch_size=32)"
      ]
    },
    {
      "cell_type": "markdown",
      "metadata": {
        "id": "o1FENW1t_amU"
      },
      "source": [
        "Embedding(vocab_size, 100, weights=[embedding_matrix], trainable=False)\n",
        "<table>\n",
        "  <tr>\n",
        "    <th>sno</th>\n",
        "    <th>Parameters</th>\n",
        "    <th>Justification</th>\n",
        "  </tr>\n",
        "  <tr>\n",
        "    <td>1</td>\n",
        "    <td>vocab_size</td>\n",
        "    <td>The size of the vocabulary (i.e., the number of unique words in the dataset).</td>\n",
        "  </tr>\n",
        "  <tr>\n",
        "    <td>2</td>\n",
        "    <td>100</td>\n",
        "    <td>The output dimension of the embedding layer </td>\n",
        "  </tr>\n",
        "  <tr>\n",
        "    <td>3</td>\n",
        "    <td>weights=[embedding_matrix]</td>\n",
        "    <td> Pre-trained word embeddings </td>\n",
        "  </tr>\n",
        "  <tr>\n",
        "    <td>4</td>\n",
        "    <td>trainable=False</td>\n",
        "    <td>embedding weights are frozen</td>\n",
        "  </tr>\n",
        "  <tr>\n",
        "    <td>5</td>\n",
        "    <td>Bidirectional(LSTM(64, return_sequences=True))</td>\n",
        "    <td>A Long Short-Term Memory (LSTM) layer with 64 units utputs a sequence instead of a single value, allowing it to be passed to the next LSTM layer Wraps the LSTM layer so that it processes the input from both forward and backward directions. </td>\n",
        "  </tr>\n",
        "  <tr>\n",
        "    <td>6</td>\n",
        "    <td>LSTM(32)</td>\n",
        "    <td> This LSTM layer has 32 memory cells. It receives the output from the previous Bidirectional LSTM layer </td>\n",
        "  </tr>\n",
        "  <tr>\n",
        "    <td>7</td>\n",
        "    <td>Dense(1, activation='sigmoid')</td>\n",
        "    <td> This is a binary classification task It receives  a range between 0 and 1, which is ideal for binary classification. </td>\n",
        "  </tr>\n",
        "</table>\n",
        "\n",
        "model.compile(loss='binary_crossentropy', optimizer='adam', metrics=['accuracy'])\n",
        "\n",
        "<table>\n",
        "  <tr>\n",
        "    <th>sno</th>\n",
        "    <th>Parameters</th>\n",
        "    <th>Justification</th>\n",
        "  </tr>\n",
        "  <tr>\n",
        "    <td>1</td>\n",
        "    <td>loss='binary_crossentropy'</td>\n",
        "    <td>Binary cross-entropy loss is used because the model is performing binary classification.</td>\n",
        "  </tr>\n",
        "  <tr>\n",
        "    <td>2</td>\n",
        "    <td>optimizer='adam'</td>\n",
        "    <td>Adam (Adaptive Moment Estimation) is chosen for optimization as it efficiently adjusts learning rates and works well for most deep learning tasks. </td>\n",
        "  </tr>\n",
        "  <tr>\n",
        "    <td>3</td>\n",
        "    <td>metrics=['accuracy']</td>\n",
        "    <td> Accuracy is used as the evaluation metric to measure model performance. </td>\n",
        "  </tr>\n",
        "  </table>\n"
      ]
    },
    {
      "cell_type": "code",
      "execution_count": 25,
      "metadata": {
        "colab": {
          "base_uri": "https://localhost:8080/"
        },
        "id": "czBu-HHB4dPq",
        "outputId": "2d1d433f-b834-4a74-9d75-3b86c45eac9f"
      },
      "outputs": [
        {
          "name": "stdout",
          "output_type": "stream",
          "text": [
            "\u001b[1m157/157\u001b[0m \u001b[32m━━━━━━━━━━━━━━━━━━━━\u001b[0m\u001b[37m\u001b[0m \u001b[1m15s\u001b[0m 92ms/step - accuracy: 0.8604 - loss: 0.3179\n",
            "\u001b[1m157/157\u001b[0m \u001b[32m━━━━━━━━━━━━━━━━━━━━\u001b[0m\u001b[37m\u001b[0m \u001b[1m46s\u001b[0m 291ms/step - accuracy: 0.8618 - loss: 0.3267\n",
            "GloVe Model Accuracy: 86.98%\n",
            "ELMo Model Accuracy: 86.24%\n"
          ]
        }
      ],
      "source": [
        "glove_loss, glove_acc = glove_model.evaluate(X_test, y_test)\n",
        "elmo_loss, elmo_acc = elmo_model.evaluate(X_test, y_test)\n",
        "\n",
        "print(f'GloVe Model Accuracy: {glove_acc * 100:.2f}%')\n",
        "print(f'ELMo Model Accuracy: {elmo_acc * 100:.2f}%')"
      ]
    },
    {
      "cell_type": "code",
      "execution_count": 26,
      "metadata": {
        "colab": {
          "base_uri": "https://localhost:8080/",
          "height": 452
        },
        "id": "fCoUFdfb4kU9",
        "outputId": "f0ae6029-cbe2-4378-ac74-09e2ff0b6266"
      },
      "outputs": [
        {
          "data": {
            "image/png": "[encoded data removed]",
            "text/plain": [
              "<Figure size 640x480 with 1 Axes>"
            ]
          },
          "metadata": {},
          "output_type": "display_data"
        }
      ],
      "source": [
        "metrics = ['GloVe', 'ELMo']\n",
        "accuracies = [glove_acc * 100, elmo_acc * 100]\n",
        "plt.bar(metrics, accuracies, color=['blue', 'green'])\n",
        "plt.ylabel('Accuracy')\n",
        "plt.title('Model Comparison')\n",
        "plt.show()"
      ]
    },
    {
      "cell_type": "markdown",
      "metadata": {
        "id": "_yeDfFvHVj6-"
      },
      "source": [
        "<table border=\"1\">\n",
        "    <tr>\n",
        "        <th>Feature</th>\n",
        "        <th>ELMo</th>\n",
        "        <th>GloVe</th>\n",
        "    </tr>\n",
        "    <tr>\n",
        "        <td>Model Type</td>\n",
        "        <td>Contextual Word Embeddings</td>\n",
        "        <td>Static Word Embeddings</td>\n",
        "    </tr>\n",
        "    <tr>\n",
        "        <td>Training Approach</td>\n",
        "        <td>Trained using deep bidirectional LSTMs (language model-based)</td>\n",
        "        <td>Trained using a matrix factorization method on word co-occurrence statistics</td>\n",
        "    </tr>\n",
        "    <tr>\n",
        "        <td>Context Awareness</td>\n",
        "        <td>Generates different embeddings for the same word depending on context</td>\n",
        "        <td>Generates a single embedding per word (context-independent)</td>\n",
        "    </tr>\n",
        "    <tr>\n",
        "        <td>Dimensionality</td>\n",
        "        <td>Typically high-dimensional 1024</td>\n",
        "        <td>Lower-dimensional 100</td>\n",
        "    </tr>\n",
        "    <tr>\n",
        "        <td>Computational Complexity for 5 Epochs</td>\n",
        "        <td>High (130 minutes)</td>\n",
        "        <td>Low (70 minutes)</td>\n",
        "    </tr>\n",
        "    <tr>\n",
        "        <td>Performance</td>\n",
        "        <td>Excels in capturing polysemy (multiple meanings of words)</td>\n",
        "        <td>Good for general word similarities but fails with polysemy</td>\n",
        "    </tr>\n",
        "    <tr>\n",
        "        <t\n"
      ]
    },
    {
      "cell_type": "code",
      "execution_count": null,
      "metadata": {
        "id": "HK_bpIuYLPae"
      },
      "outputs": [],
      "source": []
    }
  ],
  "metadata": {
    "colab": {
      "provenance": []
    },
    "kernelspec": {
      "display_name": "Python 3 (ipykernel)",
      "language": "python",
      "name": "python3"
    },
    "language_info": {
      "codemirror_mode": {
        "name": "ipython",
        "version": 3
      },
      "file_extension": ".py",
      "mimetype": "text/x-python",
      "name": "python",
      "nbconvert_exporter": "python",
      "pygments_lexer": "ipython3",
      "version": "3.7.16"
    },
    "toc": {
      "base_numbering": 1,
      "nav_menu": {},
      "number_sections": true,
      "sideBar": true,
      "skip_h1_title": false,
      "title_cell": "Table of Contents",
      "title_sidebar": "Contents",
      "toc_cell": false,
      "toc_position": {},
      "toc_section_display": true,
      "toc_window_display": false
    }
  },
  "nbformat": 4,
  "nbformat_minor": 0
}
